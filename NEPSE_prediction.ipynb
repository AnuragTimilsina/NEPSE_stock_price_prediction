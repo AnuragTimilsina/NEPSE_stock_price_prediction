{
 "cells": [
  {
   "cell_type": "markdown",
   "id": "16a59d87",
   "metadata": {},
   "source": [
    "## Importing Packages:"
   ]
  },
  {
   "cell_type": "code",
   "execution_count": 1,
   "id": "6e5028d5",
   "metadata": {},
   "outputs": [],
   "source": [
    "#import packages\n",
    "import pandas as pd\n",
    "import numpy as np\n",
    "\n",
    "#to plot within notebook\n",
    "import matplotlib.pyplot as plt\n",
    "%matplotlib inline\n",
    "\n",
    "#setting figure size\n",
    "from matplotlib.pylab import rcParams\n",
    "rcParams['figure.figsize'] = 20,10\n",
    "\n",
    "#for normalizing data\n",
    "from sklearn.preprocessing import MinMaxScaler\n",
    "scaler = MinMaxScaler(feature_range=(0, 1))"
   ]
  },
  {
   "cell_type": "markdown",
   "id": "6f95e37f",
   "metadata": {},
   "source": [
    "### Prepare data:"
   ]
  },
  {
   "cell_type": "code",
   "execution_count": 2,
   "id": "874db6f7",
   "metadata": {},
   "outputs": [
    {
     "data": {
      "text/html": [
       "<div>\n",
       "<style scoped>\n",
       "    .dataframe tbody tr th:only-of-type {\n",
       "        vertical-align: middle;\n",
       "    }\n",
       "\n",
       "    .dataframe tbody tr th {\n",
       "        vertical-align: top;\n",
       "    }\n",
       "\n",
       "    .dataframe thead th {\n",
       "        text-align: right;\n",
       "    }\n",
       "</style>\n",
       "<table border=\"1\" class=\"dataframe\">\n",
       "  <thead>\n",
       "    <tr style=\"text-align: right;\">\n",
       "      <th></th>\n",
       "      <th>Symbol</th>\n",
       "      <th>Date</th>\n",
       "      <th>Open</th>\n",
       "      <th>High</th>\n",
       "      <th>Low</th>\n",
       "      <th>Close</th>\n",
       "      <th>Percent Change</th>\n",
       "      <th>Volume</th>\n",
       "    </tr>\n",
       "  </thead>\n",
       "  <tbody>\n",
       "    <tr>\n",
       "      <th>0</th>\n",
       "      <td>NEPSE</td>\n",
       "      <td>2021-12-29</td>\n",
       "      <td>2520.55</td>\n",
       "      <td>2538.78</td>\n",
       "      <td>2512.41</td>\n",
       "      <td>2524.50</td>\n",
       "      <td>0.22</td>\n",
       "      <td>3.623480e+09</td>\n",
       "    </tr>\n",
       "    <tr>\n",
       "      <th>1</th>\n",
       "      <td>NEPSE</td>\n",
       "      <td>2021-12-28</td>\n",
       "      <td>2523.87</td>\n",
       "      <td>2533.63</td>\n",
       "      <td>2486.05</td>\n",
       "      <td>2518.99</td>\n",
       "      <td>-0.11</td>\n",
       "      <td>3.125576e+09</td>\n",
       "    </tr>\n",
       "    <tr>\n",
       "      <th>2</th>\n",
       "      <td>NEPSE</td>\n",
       "      <td>2021-12-27</td>\n",
       "      <td>2600.21</td>\n",
       "      <td>2616.27</td>\n",
       "      <td>2518.16</td>\n",
       "      <td>2521.65</td>\n",
       "      <td>-2.69</td>\n",
       "      <td>5.607440e+09</td>\n",
       "    </tr>\n",
       "    <tr>\n",
       "      <th>3</th>\n",
       "      <td>NEPSE</td>\n",
       "      <td>2021-12-26</td>\n",
       "      <td>2531.43</td>\n",
       "      <td>2596.43</td>\n",
       "      <td>2531.15</td>\n",
       "      <td>2591.42</td>\n",
       "      <td>2.82</td>\n",
       "      <td>5.173201e+09</td>\n",
       "    </tr>\n",
       "    <tr>\n",
       "      <th>4</th>\n",
       "      <td>NEPSE</td>\n",
       "      <td>2021-12-23</td>\n",
       "      <td>2522.51</td>\n",
       "      <td>2542.29</td>\n",
       "      <td>2485.38</td>\n",
       "      <td>2520.23</td>\n",
       "      <td>0.50</td>\n",
       "      <td>4.490266e+09</td>\n",
       "    </tr>\n",
       "    <tr>\n",
       "      <th>...</th>\n",
       "      <td>...</td>\n",
       "      <td>...</td>\n",
       "      <td>...</td>\n",
       "      <td>...</td>\n",
       "      <td>...</td>\n",
       "      <td>...</td>\n",
       "      <td>...</td>\n",
       "      <td>...</td>\n",
       "    </tr>\n",
       "    <tr>\n",
       "      <th>4567</th>\n",
       "      <td>NEPSE</td>\n",
       "      <td>2001-09-17</td>\n",
       "      <td>273.01</td>\n",
       "      <td>273.01</td>\n",
       "      <td>273.01</td>\n",
       "      <td>273.01</td>\n",
       "      <td>0.00</td>\n",
       "      <td>0.000000e+00</td>\n",
       "    </tr>\n",
       "    <tr>\n",
       "      <th>4568</th>\n",
       "      <td>NEPSE</td>\n",
       "      <td>2001-09-14</td>\n",
       "      <td>265.22</td>\n",
       "      <td>265.22</td>\n",
       "      <td>265.22</td>\n",
       "      <td>265.22</td>\n",
       "      <td>0.00</td>\n",
       "      <td>0.000000e+00</td>\n",
       "    </tr>\n",
       "    <tr>\n",
       "      <th>4569</th>\n",
       "      <td>NEPSE</td>\n",
       "      <td>2001-09-13</td>\n",
       "      <td>261.37</td>\n",
       "      <td>261.37</td>\n",
       "      <td>261.37</td>\n",
       "      <td>261.37</td>\n",
       "      <td>0.00</td>\n",
       "      <td>0.000000e+00</td>\n",
       "    </tr>\n",
       "    <tr>\n",
       "      <th>4570</th>\n",
       "      <td>NEPSE</td>\n",
       "      <td>2001-09-12</td>\n",
       "      <td>269.17</td>\n",
       "      <td>269.17</td>\n",
       "      <td>269.17</td>\n",
       "      <td>269.17</td>\n",
       "      <td>0.00</td>\n",
       "      <td>0.000000e+00</td>\n",
       "    </tr>\n",
       "    <tr>\n",
       "      <th>4571</th>\n",
       "      <td>NEPSE</td>\n",
       "      <td>2001-09-11</td>\n",
       "      <td>274.34</td>\n",
       "      <td>274.34</td>\n",
       "      <td>274.34</td>\n",
       "      <td>274.34</td>\n",
       "      <td>0.00</td>\n",
       "      <td>0.000000e+00</td>\n",
       "    </tr>\n",
       "  </tbody>\n",
       "</table>\n",
       "<p>4572 rows × 8 columns</p>\n",
       "</div>"
      ],
      "text/plain": [
       "     Symbol        Date     Open     High      Low    Close Percent Change  \\\n",
       "0     NEPSE  2021-12-29  2520.55  2538.78  2512.41  2524.50           0.22   \n",
       "1     NEPSE  2021-12-28  2523.87  2533.63  2486.05  2518.99          -0.11   \n",
       "2     NEPSE  2021-12-27  2600.21  2616.27  2518.16  2521.65          -2.69   \n",
       "3     NEPSE  2021-12-26  2531.43  2596.43  2531.15  2591.42           2.82   \n",
       "4     NEPSE  2021-12-23  2522.51  2542.29  2485.38  2520.23           0.50   \n",
       "...     ...         ...      ...      ...      ...      ...            ...   \n",
       "4567  NEPSE  2001-09-17   273.01   273.01   273.01   273.01           0.00   \n",
       "4568  NEPSE  2001-09-14   265.22   265.22   265.22   265.22           0.00   \n",
       "4569  NEPSE  2001-09-13   261.37   261.37   261.37   261.37           0.00   \n",
       "4570  NEPSE  2001-09-12   269.17   269.17   269.17   269.17           0.00   \n",
       "4571  NEPSE  2001-09-11   274.34   274.34   274.34   274.34           0.00   \n",
       "\n",
       "            Volume  \n",
       "0     3.623480e+09  \n",
       "1     3.125576e+09  \n",
       "2     5.607440e+09  \n",
       "3     5.173201e+09  \n",
       "4     4.490266e+09  \n",
       "...            ...  \n",
       "4567  0.000000e+00  \n",
       "4568  0.000000e+00  \n",
       "4569  0.000000e+00  \n",
       "4570  0.000000e+00  \n",
       "4571  0.000000e+00  \n",
       "\n",
       "[4572 rows x 8 columns]"
      ]
     },
     "execution_count": 2,
     "metadata": {},
     "output_type": "execute_result"
    }
   ],
   "source": [
    "df = pd.read_csv('NEPSE_1yr.csv')\n",
    "\n",
    "df"
   ]
  },
  {
   "cell_type": "markdown",
   "id": "964c8d4e",
   "metadata": {},
   "source": [
    "### Plotting the target variable:"
   ]
  },
  {
   "cell_type": "code",
   "execution_count": 3,
   "id": "3631a2e8",
   "metadata": {},
   "outputs": [
    {
     "data": {
      "text/plain": [
       "[<matplotlib.lines.Line2D at 0x171f44b20d0>]"
      ]
     },
     "execution_count": 3,
     "metadata": {},
     "output_type": "execute_result"
    },
    {
     "data": {
      "image/png": "[encoded data removed]",
      "text/plain": [
       "<Figure size 1152x576 with 1 Axes>"
      ]
     },
     "metadata": {
      "needs_background": "light"
     },
     "output_type": "display_data"
    }
   ],
   "source": [
    "#setting index as date\n",
    "df['Date'] = pd.to_datetime(df.Date,format='%Y-%m-%d')\n",
    "df.index = df['Date']\n",
    "\n",
    "#plot\n",
    "plt.figure(figsize=(16,8))\n",
    "plt.plot(df['Close'], label='Close Price history')"
   ]
  },
  {
   "cell_type": "code",
   "execution_count": 4,
   "id": "d614d3e4",
   "metadata": {},
   "outputs": [],
   "source": [
    "# #creating dataframe with date and the target variable\n",
    "# data = df.sort_index(ascending=True, axis=0)\n",
    "# new_data = pd.DataFrame(index=range(0,len(df)),columns=['Date', 'Close'])"
   ]
  },
  {
   "cell_type": "code",
   "execution_count": 5,
   "id": "0232b442",
   "metadata": {},
   "outputs": [],
   "source": [
    "# for i in range(0,len(data)):\n",
    "#      new_data['Date'][i] = data['Date'][i]\n",
    "#      new_data['Close'][i] = data['Close'][i]"
   ]
  },
  {
   "cell_type": "code",
   "execution_count": 6,
   "id": "9f895fb4",
   "metadata": {},
   "outputs": [],
   "source": [
    "# train = new_data[:4000]\n",
    "# valid = new_data[4000:]\n",
    "\n",
    "# print('\\n Shape of training set:')\n",
    "# print(train.shape)\n",
    "\n",
    "# print('\\n Shape of validation set:')\n",
    "# print(valid.shape)"
   ]
  },
  {
   "cell_type": "markdown",
   "id": "e033e61b",
   "metadata": {},
   "source": [
    "## Using LSTM:"
   ]
  },
  {
   "cell_type": "markdown",
   "id": "3ff3213a",
   "metadata": {},
   "source": [
    "### Setting up data:"
   ]
  },
  {
   "cell_type": "code",
   "execution_count": 7,
   "id": "b2d29130",
   "metadata": {},
   "outputs": [],
   "source": [
    "#importing required libraries\n",
    "from sklearn.preprocessing import MinMaxScaler\n",
    "from keras.models import Sequential\n",
    "from keras.layers import Dense, Dropout, LSTM"
   ]
  },
  {
   "cell_type": "code",
   "execution_count": 8,
   "id": "b2467f5e",
   "metadata": {},
   "outputs": [],
   "source": [
    "#creating dataframe\n",
    "data = df.sort_index(ascending=True, axis=0)\n",
    "new_data = pd.DataFrame(index=range(0,len(df)),columns=['Date', 'Close'])\n",
    "for i in range(0,len(data)):\n",
    "    new_data['Date'][i] = data['Date'][i]\n",
    "    new_data['Close'][i] = data['Close'][i]"
   ]
  },
  {
   "cell_type": "code",
   "execution_count": 9,
   "id": "7a692001",
   "metadata": {},
   "outputs": [],
   "source": [
    "#setting index\n",
    "new_data.index = new_data.Date\n",
    "new_data.drop('Date', axis=1, inplace=True)"
   ]
  },
  {
   "cell_type": "code",
   "execution_count": 10,
   "id": "32227508",
   "metadata": {},
   "outputs": [],
   "source": [
    "#creating train and test sets\n",
    "dataset = new_data.values\n",
    "\n",
    "train = dataset[0:3800,:]\n",
    "valid = dataset[3800:,:]"
   ]
  },
  {
   "cell_type": "code",
   "execution_count": 11,
   "id": "8c3f3f65",
   "metadata": {},
   "outputs": [],
   "source": [
    "#converting dataset into x_train and y_train\n",
    "scaler = MinMaxScaler(feature_range=(0, 1))\n",
    "scaled_data = scaler.fit_transform(dataset)"
   ]
  },
  {
   "cell_type": "code",
   "execution_count": 12,
   "id": "d3397f7f",
   "metadata": {},
   "outputs": [],
   "source": [
    "x_train, y_train = [], []\n",
    "for i in range(60,len(train)):\n",
    "    x_train.append(scaled_data[i-60:i,0])\n",
    "    y_train.append(scaled_data[i,0])\n",
    "x_train, y_train = np.array(x_train), np.array(y_train)\n",
    "\n",
    "x_train = np.reshape(x_train, (x_train.shape[0],x_train.shape[1],1))\n"
   ]
  },
  {
   "cell_type": "markdown",
   "id": "46166cd6",
   "metadata": {},
   "source": [
    "## Creating the LSTM model:"
   ]
  },
  {
   "cell_type": "code",
   "execution_count": 13,
   "id": "c3382bae",
   "metadata": {},
   "outputs": [],
   "source": [
    "# create and fit the LSTM network\n",
    "# model = Sequential()\n",
    "# model.add(LSTM(units=50, return_sequences=True, input_shape=(x_train.shape[1],1)))\n",
    "# model.add(LSTM(units=50))\n",
    "# model.add(Dense(1))\n",
    "\n",
    "regressor = Sequential()\n",
    "\n",
    "regressor.add(LSTM(units=50, return_sequences=True, input_shape = (x_train.shape[1], 1)))\n",
    "regressor.add(Dropout(0.2))\n",
    "\n",
    "regressor.add(LSTM(units=50, return_sequences=True))\n",
    "regressor.add(Dropout(0.2))\n",
    "\n",
    "regressor.add(LSTM(units=50, return_sequences=True))\n",
    "regressor.add(Dropout(0.2))\n",
    "\n",
    "regressor.add(LSTM(units=50))\n",
    "regressor.add(Dropout(0.2))\n",
    "\n",
    "regressor.add(Dense(units=1))"
   ]
  },
  {
   "cell_type": "markdown",
   "id": "110e0f37",
   "metadata": {},
   "source": [
    "### Fitting the model:"
   ]
  },
  {
   "cell_type": "code",
   "execution_count": 14,
   "id": "c37124e7",
   "metadata": {},
   "outputs": [
    {
     "name": "stdout",
     "output_type": "stream",
     "text": [
      "3740/3740 - 107s - loss: 0.0014\n"
     ]
    },
    {
     "data": {
      "text/plain": [
       "<keras.callbacks.History at 0x171ea0e5fa0>"
      ]
     },
     "execution_count": 14,
     "metadata": {},
     "output_type": "execute_result"
    }
   ],
   "source": [
    "regressor.compile(loss='mean_squared_error', optimizer='adam')\n",
    "regressor.fit(x_train, y_train, epochs=1, batch_size=1, verbose=2)\n"
   ]
  },
  {
   "cell_type": "code",
   "execution_count": 16,
   "id": "93fbae49",
   "metadata": {},
   "outputs": [],
   "source": [
    "#predicting values, using past 60 from the train data\n",
    "inputs = new_data[len(new_data) - len(valid) - 60:].values\n",
    "inputs = inputs.reshape(-1,1)\n",
    "inputs  = scaler.transform(inputs)\n",
    "\n",
    "X_test = []\n",
    "for i in range(60,inputs.shape[0]):\n",
    "    X_test.append(inputs[i-60:i,0])\n",
    "X_test = np.array(X_test)\n",
    "\n",
    "X_test = np.reshape(X_test, (X_test.shape[0],X_test.shape[1],1))\n",
    "closing_price = regressor.predict(X_test)\n",
    "closing_price = scaler.inverse_transform(closing_price)"
   ]
  },
  {
   "cell_type": "markdown",
   "id": "60a15402",
   "metadata": {},
   "source": [
    "### Result Demo:"
   ]
  },
  {
   "cell_type": "code",
   "execution_count": 17,
   "id": "37a792d2",
   "metadata": {},
   "outputs": [
    {
     "data": {
      "text/plain": [
       "109.79967323536104"
      ]
     },
     "execution_count": 17,
     "metadata": {},
     "output_type": "execute_result"
    }
   ],
   "source": [
    "rms=np.sqrt(np.mean(np.power((valid-closing_price),2)))\n",
    "rms"
   ]
  },
  {
   "cell_type": "markdown",
   "id": "531889af",
   "metadata": {},
   "source": [
    "### Visualizing the plot:"
   ]
  },
  {
   "cell_type": "code",
   "execution_count": 23,
   "id": "aa55164c",
   "metadata": {},
   "outputs": [
    {
     "name": "stderr",
     "output_type": "stream",
     "text": [
      "C:\\Users\\ASUS\\AppData\\Local\\Temp/ipykernel_15648/506944377.py:4: SettingWithCopyWarning: \n",
      "A value is trying to be set on a copy of a slice from a DataFrame.\n",
      "Try using .loc[row_indexer,col_indexer] = value instead\n",
      "\n",
      "See the caveats in the documentation: https://pandas.pydata.org/pandas-docs/stable/user_guide/indexing.html#returning-a-view-versus-a-copy\n",
      "  valid['Predictions'] = closing_price\n"
     ]
    },
    {
     "data": {
      "text/plain": [
       "[<matplotlib.lines.Line2D at 0x1729f83c3a0>]"
      ]
     },
     "execution_count": 23,
     "metadata": {},
     "output_type": "execute_result"
    },
    {
     "data": {
      "image/png": "[encoded data removed]",
      "text/plain": [
       "<Figure size 1440x720 with 1 Axes>"
      ]
     },
     "metadata": {
      "needs_background": "light"
     },
     "output_type": "display_data"
    }
   ],
   "source": [
    "#for plotting\n",
    "train = new_data[:3800]\n",
    "valid = new_data[3800:]\n",
    "valid['Predictions'] = closing_price\n",
    "plt.plot(train['Close'])\n",
    "plt.plot(valid[['Close']], color='green')\n",
    "plt.plot(valid[['Predictions']], color='red')"
   ]
  },
  {
   "cell_type": "code",
   "execution_count": null,
   "id": "ef8845b7",
   "metadata": {},
   "outputs": [],
   "source": []
  }
 ],
 "metadata": {
  "kernelspec": {
   "display_name": "Python 3 (ipykernel)",
   "language": "python",
   "name": "python3"
  },
  "language_info": {
   "codemirror_mode": {
    "name": "ipython",
    "version": 3
   },
   "file_extension": ".py",
   "mimetype": "text/x-python",
   "name": "python",
   "nbconvert_exporter": "python",
   "pygments_lexer": "ipython3",
   "version": "3.9.7"
  }
 },
 "nbformat": 4,
 "nbformat_minor": 5
}
